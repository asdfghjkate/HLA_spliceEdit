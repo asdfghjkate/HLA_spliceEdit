{
 "cells": [
  {
   "cell_type": "markdown",
   "metadata": {},
   "source": [
    "plan: \n",
    "with script, make a string of the following format that includes all haplotypes and also filters on both cwd version 2 and 3 (must be 'C' (common) for both):\n",
    "\n",
    "https://www.ebi.ac.uk/ipd/imgt/hla/alleles/?query=or(and(eq(cwd.version_3.Total,%22C%22),eq(cwd.version_2,%22C%22),startsWith(name,%22A*24:02%22)),and(eq(cwd.version_3.Total,%22C%22),eq(cwd.version_2,%22C%22),startsWith(name,%22A*01:02%22)))\n",
    "\n",
    "paste resulting url string into browser and then download the result list mapping IPD Accession (what we need for getting jsons) to allele name.\n",
    "then loop over all the accessions to get json urls: https://www.ebi.ac.uk/cgi-bin/ipd/api/allele/[HLA00002]\n",
    "    format: https://www.ebi.ac.uk/cgi-bin/ipd/api/allele/[accession]"
   ]
  },
  {
   "cell_type": "code",
   "execution_count": 2,
   "metadata": {},
   "outputs": [],
   "source": [
    "import numpy as np\n",
    "import pandas as pd\n",
    "import json\n",
    "from Bio.Seq import Seq\n",
    "import math\n",
    "import urllib.request"
   ]
  },
  {
   "cell_type": "code",
   "execution_count": 3,
   "metadata": {},
   "outputs": [],
   "source": [
    "def readHLA(filename):\n",
    "    \"\"\"\n",
    "    takes in filename of HLA locus xlsx, outputs list of most frequent alleles\n",
    "    an allele is defined as frequent if it occurs in more than 1% of the population for any ethnic group \n",
    "    \"\"\"\n",
    "    df = pd.read_excel(filename)\n",
    "    freq_alleles_list = []\n",
    "    cutoff = 0.01\n",
    "    for index, row in df.iterrows():\n",
    "        # print(row[\"A\"])\n",
    "        if max(row[1], row[3], row[5], row[7], row[9], row[11], row[13], row[15], row[17], row[19], row[21], row[23], row[25], row[27], row[29], row[31], row[33], row[35], row[37], row[39], row[41], row[43], row[45], row[47], row[49], row[51]) >= cutoff:\n",
    "            # freq_alleles_list.append(row[0])\n",
    "            if row[0][-1] == \"g\":\n",
    "                freq_alleles_list.append(row[0][:-1])\n",
    "            else:\n",
    "                freq_alleles_list.append(row[0])\n",
    "    return freq_alleles_list"
   ]
  },
  {
   "cell_type": "code",
   "execution_count": null,
   "metadata": {},
   "outputs": [],
   "source": [
    "freq_alleles = {}\n",
    "freq_alleles[\"A\"] = readHLA(\"../HLA_allele_freq_sheets/A.xlsx\")\n",
    "freq_alleles[\"B\"] = readHLA(\"../HLA_allele_freq_sheets/B.xlsx\")\n",
    "freq_alleles[\"C\"] = readHLA(\"../HLA_allele_freq_sheets/C.xlsx\")\n",
    "freq_alleles[\"DQB1\"] = readHLA(\"../HLA_allele_freq_sheets/DQB1.xlsx\")\n",
    "freq_alleles[\"DRB1\"] = readHLA(\"../HLA_allele_freq_sheets/DRB1.xlsx\")\n",
    "# freq_alleles is a dict mapping strings of gene (eg. \"A\", \"B\") to list of common haplotype names (strings)"
   ]
  },
  {
   "cell_type": "code",
   "execution_count": null,
   "metadata": {},
   "outputs": [],
   "source": [
    "freq_alleles"
   ]
  },
  {
   "cell_type": "code",
   "execution_count": null,
   "metadata": {},
   "outputs": [
    {
     "data": {
      "text/plain": [
       "'https://www.ebi.ac.uk/ipd/imgt/hla/alleles/?query=or(and(eq(cwd.version_3.Total,%22C%22),eq(cwd.version_2,%22C%22),startsWith(name,%22A*30:04%22)),and(eq(cwd.version_3.Total,%22C%22),eq(cwd.version_2,%22C%22),startsWith(name,%22A*24:03%22)),and(eq(cwd.version_3.Total,%22C%22),eq(cwd.version_2,%22C%22),startsWith(name,%22A*24:02%22)),and(eq(cwd.version_3.Total,%22C%22),eq(cwd.version_2,%22C%22),startsWith(name,%22A*11:01%22)),and(eq(cwd.version_3.Total,%22C%22),eq(cwd.version_2,%22C%22),startsWith(name,%22A*34:02%22)),and(eq(cwd.version_3.Total,%22C%22),eq(cwd.version_2,%22C%22),startsWith(name,%22A*32:01%22)),and(eq(cwd.version_3.Total,%22C%22),eq(cwd.version_2,%22C%22),startsWith(name,%22A*01:01%22)),and(eq(cwd.version_3.Total,%22C%22),eq(cwd.version_2,%22C%22),startsWith(name,%22A*03:02%22)),and(eq(cwd.version_3.Total,%22C%22),eq(cwd.version_2,%22C%22),startsWith(name,%22A*68:01%22)),and(eq(cwd.version_3.Total,%22C%22),eq(cwd.version_2,%22C%22),startsWith(name,%22A*23:01%22)),and(eq(cwd.version_3.Total,%22C%22),eq(cwd.version_2,%22C%22),startsWith(name,%22A*11:02%22)),and(eq(cwd.version_3.Total,%22C%22),eq(cwd.version_2,%22C%22),startsWith(name,%22A*74:01%22)),and(eq(cwd.version_3.Total,%22C%22),eq(cwd.version_2,%22C%22),startsWith(name,%22A*02:05%22)),and(eq(cwd.version_3.Total,%22C%22),eq(cwd.version_2,%22C%22),startsWith(name,%22A*26:01%22)),and(eq(cwd.version_3.Total,%22C%22),eq(cwd.version_2,%22C%22),startsWith(name,%22A*30:01%22)),and(eq(cwd.version_3.Total,%22C%22),eq(cwd.version_2,%22C%22),startsWith(name,%22A*34:01%22)),and(eq(cwd.version_3.Total,%22C%22),eq(cwd.version_2,%22C%22),startsWith(name,%22A*26:03%22)),and(eq(cwd.version_3.Total,%22C%22),eq(cwd.version_2,%22C%22),startsWith(name,%22A*66:01%22)),and(eq(cwd.version_3.Total,%22C%22),eq(cwd.version_2,%22C%22),startsWith(name,%22A*03:01%22)),and(eq(cwd.version_3.Total,%22C%22),eq(cwd.version_2,%22C%22),startsWith(name,%22A*02:11%22)),and(eq(cwd.version_3.Total,%22C%22),eq(cwd.version_2,%22C%22),startsWith(name,%22A*02:02%22)),and(eq(cwd.version_3.Total,%22C%22),eq(cwd.version_2,%22C%22),startsWith(name,%22A*02:03%22)),and(eq(cwd.version_3.Total,%22C%22),eq(cwd.version_2,%22C%22),startsWith(name,%22A*26:02%22)),and(eq(cwd.version_3.Total,%22C%22),eq(cwd.version_2,%22C%22),startsWith(name,%22A*33:01%22)),and(eq(cwd.version_3.Total,%22C%22),eq(cwd.version_2,%22C%22),startsWith(name,%22A*30:02%22)),and(eq(cwd.version_3.Total,%22C%22),eq(cwd.version_2,%22C%22),startsWith(name,%22A*24:07%22)),and(eq(cwd.version_3.Total,%22C%22),eq(cwd.version_2,%22C%22),startsWith(name,%22A*29:02%22)),and(eq(cwd.version_3.Total,%22C%22),eq(cwd.version_2,%22C%22),startsWith(name,%22A*25:01%22)),and(eq(cwd.version_3.Total,%22C%22),eq(cwd.version_2,%22C%22),startsWith(name,%22A*68:02%22)),and(eq(cwd.version_3.Total,%22C%22),eq(cwd.version_2,%22C%22),startsWith(name,%22A*33:03%22)),and(eq(cwd.version_3.Total,%22C%22),eq(cwd.version_2,%22C%22),startsWith(name,%22A*36:01%22)),and(eq(cwd.version_3.Total,%22C%22),eq(cwd.version_2,%22C%22),startsWith(name,%22A*29:01%22)),and(eq(cwd.version_3.Total,%22C%22),eq(cwd.version_2,%22C%22),startsWith(name,%22A*02:01%22)),and(eq(cwd.version_3.Total,%22C%22),eq(cwd.version_2,%22C%22),startsWith(name,%22A*02:17%22)),and(eq(cwd.version_3.Total,%22C%22),eq(cwd.version_2,%22C%22),startsWith(name,%22A*31:01%22)),and(eq(cwd.version_3.Total,%22C%22),eq(cwd.version_2,%22C%22),startsWith(name,%22A*68:03%22)),and(eq(cwd.version_3.Total,%22C%22),eq(cwd.version_2,%22C%22),startsWith(name,%22A*02:06%22)),and(eq(cwd.version_3.Total,%22C%22),eq(cwd.version_2,%22C%22),startsWith(name,%22A*02:07%22)))'"
      ]
     },
     "execution_count": 10,
     "metadata": {},
     "output_type": "execute_result"
    }
   ],
   "source": [
    "### overfilters \n",
    "# prefix = \"https://www.ebi.ac.uk/ipd/imgt/hla/alleles/?query=or(\"\n",
    "# a_str = str()\n",
    "# for allele_name in freq_alleles[\"A\"]:\n",
    "#     #print(allele_name)\n",
    "#     s = f\",and(eq(cwd.version_3.Total,%22C%22),eq(cwd.version_2,%22C%22),startsWith(name,%22{allele_name}%22))\"\n",
    "#     a_str+=s\n",
    "# a_str = a_str[1:]\n",
    "\n",
    "# a_str = prefix+a_str+\")\"\n",
    "# a_str"
   ]
  },
  {
   "cell_type": "code",
   "execution_count": null,
   "metadata": {},
   "outputs": [
    {
     "data": {
      "text/plain": [
       "'https://www.ebi.ac.uk/ipd/imgt/hla/alleles/?query=or(and(eq(cwd.version_2,%22C%22),startsWith(name,%22A*30:04%22)),and(eq(cwd.version_2,%22C%22),startsWith(name,%22A*24:03%22)),and(eq(cwd.version_2,%22C%22),startsWith(name,%22A*24:02%22)),and(eq(cwd.version_2,%22C%22),startsWith(name,%22A*11:01%22)),and(eq(cwd.version_2,%22C%22),startsWith(name,%22A*34:02%22)),and(eq(cwd.version_2,%22C%22),startsWith(name,%22A*32:01%22)),and(eq(cwd.version_2,%22C%22),startsWith(name,%22A*01:01%22)),and(eq(cwd.version_2,%22C%22),startsWith(name,%22A*03:02%22)),and(eq(cwd.version_2,%22C%22),startsWith(name,%22A*68:01%22)),and(eq(cwd.version_2,%22C%22),startsWith(name,%22A*23:01%22)),and(eq(cwd.version_2,%22C%22),startsWith(name,%22A*11:02%22)),and(eq(cwd.version_2,%22C%22),startsWith(name,%22A*74:01%22)),and(eq(cwd.version_2,%22C%22),startsWith(name,%22A*02:05%22)),and(eq(cwd.version_2,%22C%22),startsWith(name,%22A*26:01%22)),and(eq(cwd.version_2,%22C%22),startsWith(name,%22A*30:01%22)),and(eq(cwd.version_2,%22C%22),startsWith(name,%22A*34:01%22)),and(eq(cwd.version_2,%22C%22),startsWith(name,%22A*26:03%22)),and(eq(cwd.version_2,%22C%22),startsWith(name,%22A*66:01%22)),and(eq(cwd.version_2,%22C%22),startsWith(name,%22A*03:01%22)),and(eq(cwd.version_2,%22C%22),startsWith(name,%22A*02:11%22)),and(eq(cwd.version_2,%22C%22),startsWith(name,%22A*02:02%22)),and(eq(cwd.version_2,%22C%22),startsWith(name,%22A*02:03%22)),and(eq(cwd.version_2,%22C%22),startsWith(name,%22A*26:02%22)),and(eq(cwd.version_2,%22C%22),startsWith(name,%22A*33:01%22)),and(eq(cwd.version_2,%22C%22),startsWith(name,%22A*30:02%22)),and(eq(cwd.version_2,%22C%22),startsWith(name,%22A*24:07%22)),and(eq(cwd.version_2,%22C%22),startsWith(name,%22A*29:02%22)),and(eq(cwd.version_2,%22C%22),startsWith(name,%22A*25:01%22)),and(eq(cwd.version_2,%22C%22),startsWith(name,%22A*68:02%22)),and(eq(cwd.version_2,%22C%22),startsWith(name,%22A*33:03%22)),and(eq(cwd.version_2,%22C%22),startsWith(name,%22A*36:01%22)),and(eq(cwd.version_2,%22C%22),startsWith(name,%22A*29:01%22)),and(eq(cwd.version_2,%22C%22),startsWith(name,%22A*02:01%22)),and(eq(cwd.version_2,%22C%22),startsWith(name,%22A*02:17%22)),and(eq(cwd.version_2,%22C%22),startsWith(name,%22A*31:01%22)),and(eq(cwd.version_2,%22C%22),startsWith(name,%22A*68:03%22)),and(eq(cwd.version_2,%22C%22),startsWith(name,%22A*02:06%22)),and(eq(cwd.version_2,%22C%22),startsWith(name,%22A*02:07%22)))'"
      ]
     },
     "execution_count": 11,
     "metadata": {},
     "output_type": "execute_result"
    }
   ],
   "source": [
    "## only using CWD version 2 to filter seems to work well \n",
    "prefix = \"https://www.ebi.ac.uk/ipd/imgt/hla/alleles/?query=or(\"\n",
    "a_str = str()\n",
    "for allele_name in freq_alleles[\"A\"]:\n",
    "    #print(allele_name)\n",
    "    s = f\",and(eq(cwd.version_2,%22C%22),startsWith(name,%22{allele_name}%22))\"\n",
    "    a_str+=s\n",
    "a_str = a_str[1:]\n",
    "\n",
    "a_str = prefix+a_str+\")\"\n",
    "a_str"
   ]
  },
  {
   "cell_type": "code",
   "execution_count": null,
   "metadata": {},
   "outputs": [
    {
     "data": {
      "text/plain": [
       "{'A*30:04:01:01': 'HLA00092',\n",
       " 'A*24:03:01:01': 'HLA00053',\n",
       " 'A*24:02:01:01': 'HLA00050',\n",
       " 'A*11:01:01:01': 'HLA00043',\n",
       " 'A*34:02:01:01': 'HLA00109',\n",
       " 'A*32:01:01:01': 'HLA00101',\n",
       " 'A*01:01:01:01': 'HLA00001',\n",
       " 'A*03:02:01:01': 'HLA00040',\n",
       " 'A*68:01:01:01': 'HLA00115',\n",
       " 'A*68:01:02:01': 'HLA00116',\n",
       " 'A*23:01:01:01': 'HLA00048',\n",
       " 'A*11:02:01:01': 'HLA00044',\n",
       " 'A*74:01:01:01': 'HLA00127',\n",
       " 'A*02:05:01:01': 'HLA00010',\n",
       " 'A*26:01:01:01': 'HLA00073',\n",
       " 'A*30:01:01:01': 'HLA00089',\n",
       " 'A*34:01:01:01': 'HLA00108',\n",
       " 'A*26:03:01:01': 'HLA00075',\n",
       " 'A*66:01:01:01': 'HLA00112',\n",
       " 'A*03:01:01:01': 'HLA00037',\n",
       " 'A*02:11:01:01': 'HLA00016',\n",
       " 'A*02:02:01:01': 'HLA00007',\n",
       " 'A*02:03:01:01': 'HLA00008',\n",
       " 'A*33:01:01:01': 'HLA00104',\n",
       " 'A*30:02:01:01': 'HLA00090',\n",
       " 'A*24:07:01:01': 'HLA00057',\n",
       " 'A*29:02:01:01': 'HLA00086',\n",
       " 'A*25:01:01:01': 'HLA00071',\n",
       " 'A*68:02:01:01': 'HLA00117',\n",
       " 'A*33:03:01:01': 'HLA00106',\n",
       " 'A*36:01:01:01': 'HLA00110',\n",
       " 'A*29:01:01:01': 'HLA00085',\n",
       " 'A*02:01:01:01': 'HLA00005',\n",
       " 'A*02:01:04': 'HLA01032',\n",
       " 'A*31:01:02:01': 'HLA00097',\n",
       " 'A*68:03:01:01': 'HLA00118',\n",
       " 'A*02:06:01:01': 'HLA00011',\n",
       " 'A*02:07:01:01': 'HLA00012'}"
      ]
     },
     "execution_count": 15,
     "metadata": {},
     "output_type": "execute_result"
    }
   ],
   "source": [
    "n_to_a = pd.read_csv(\"HLA_A_name_to_accession.txt\", sep=\"\\t\")\n",
    "n_to_a \n",
    "name_to_accession = dict(zip(n_to_a['name'], n_to_a['accession']))\n",
    "name_to_accession"
   ]
  },
  {
   "cell_type": "code",
   "execution_count": 1,
   "metadata": {},
   "outputs": [
    {
     "name": "stdout",
     "output_type": "stream",
     "text": [
      "{'accession': 'HLA00002', 'allele_history': [{'name': 'A*0102', 'release_version': '1.05.0', 'sversion': 1}, {'name': 'A*0102', 'release_version': '1.06.0', 'sversion': 1}, {'name': 'A*0102', 'release_version': '1.07.0', 'sversion': 1}, {'name': 'A*0102', 'release_version': '1.08.0', 'sversion': 1}, {'name': 'A*0102', 'release_version': '1.09.0', 'sversion': 1}, {'name': 'A*0102', 'release_version': '1.10.0', 'sversion': 1}, {'name': 'A*0102', 'release_version': '1.11.0', 'sversion': 1}, {'name': 'A*0102', 'release_version': '1.12.0', 'sversion': 1}, {'name': 'A*0102', 'release_version': '1.13.0', 'sversion': 1}, {'name': 'A*0102', 'release_version': '1.14.0', 'sversion': 1}, {'name': 'A*0102', 'release_version': '1.15.0', 'sversion': 1}, {'name': 'A*0102', 'release_version': '1.16.0', 'sversion': 1}, {'name': 'A*0102', 'release_version': '2.00.0', 'sversion': 1}, {'name': 'A*0102', 'release_version': '2.01.0', 'sversion': 1}, {'name': 'A*0102', 'release_version': '2.02.0', 'sversion': 1}, {'name': 'A*0102', 'release_version': '2.03.0', 'sversion': 1}, {'name': 'A*0102', 'release_version': '2.04.0', 'sversion': 1}, {'name': 'A*0102', 'release_version': '2.05.0', 'sversion': 1}, {'name': 'A*0102', 'release_version': '2.06.0', 'sversion': 1}, {'name': 'A*0102', 'release_version': '2.07.0', 'sversion': 1}, {'name': 'A*0102', 'release_version': '2.08.0', 'sversion': 1}, {'name': 'A*0102', 'release_version': '2.09.0', 'sversion': 1}, {'name': 'A*0102', 'release_version': '2.10.0', 'sversion': 1}, {'name': 'A*0102', 'release_version': '2.11.0', 'sversion': 1}, {'name': 'A*0102', 'release_version': '2.12.0', 'sversion': 1}, {'name': 'A*0102', 'release_version': '2.13.0', 'sversion': 1}, {'name': 'A*0102', 'release_version': '2.14.0', 'sversion': 1}, {'name': 'A*0102', 'release_version': '2.14.1', 'sversion': 1}, {'name': 'A*0102', 'release_version': '2.15.0', 'sversion': 1}, {'name': 'A*0102', 'release_version': '2.16.0', 'sversion': 1}, {'name': 'A*0102', 'release_version': '2.17.0', 'sversion': 1}, {'name': 'A*0102', 'release_version': '2.18.0', 'sversion': 1}, {'name': 'A*0102', 'release_version': '2.19.0', 'sversion': 1}, {'name': 'A*0102', 'release_version': '2.20.0', 'sversion': 1}, {'name': 'A*0102', 'release_version': '2.21.0', 'sversion': 1}, {'name': 'A*0102', 'release_version': '2.22.0', 'sversion': 1}, {'name': 'A*0102', 'release_version': '2.23.0', 'sversion': 1}, {'name': 'A*0102', 'release_version': '2.24.0', 'sversion': 1}, {'name': 'A*0102', 'release_version': '2.25.0', 'sversion': 1}, {'name': 'A*0102', 'release_version': '2.25.1', 'sversion': 1}, {'name': 'A*0102', 'release_version': '2.25.2', 'sversion': 1}, {'name': 'A*0102', 'release_version': '2.26.0', 'sversion': 1}, {'name': 'A*0102', 'release_version': '2.27.0', 'sversion': 1}, {'name': 'A*0102', 'release_version': '2.28.0', 'sversion': 1}, {'name': 'A*01:02', 'release_version': '3.00.0', 'sversion': 1}, {'name': 'A*01:02', 'release_version': '3.01.0', 'sversion': 1}, {'name': 'A*01:02', 'release_version': '3.02.0', 'sversion': 1}, {'name': 'A*01:02', 'release_version': '3.03.0', 'sversion': 1}, {'name': 'A*01:02', 'release_version': '3.04.0', 'sversion': 1}, {'name': 'A*01:02', 'release_version': '3.05.0', 'sversion': 1}, {'name': 'A*01:02', 'release_version': '3.06.0', 'sversion': 1}, {'name': 'A*01:02', 'release_version': '3.07.0', 'sversion': 1}, {'name': 'A*01:02', 'release_version': '3.08.0', 'sversion': 1}, {'name': 'A*01:02', 'release_version': '3.09.0', 'sversion': 1}, {'name': 'A*01:02', 'release_version': '3.10.0', 'sversion': 1}, {'name': 'A*01:02', 'release_version': '3.11.0', 'sversion': 1}, {'name': 'A*01:02', 'release_version': '3.12.0', 'sversion': 1}, {'name': 'A*01:02', 'release_version': '3.13.1', 'sversion': 1}, {'name': 'A*01:02', 'release_version': '3.14.0', 'sversion': 1}, {'name': 'A*01:02', 'release_version': '3.15.0', 'sversion': 1}, {'name': 'A*01:02', 'release_version': '3.16.0', 'sversion': 1}, {'name': 'A*01:02', 'release_version': '3.17.0', 'sversion': 2}, {'name': 'A*01:02', 'release_version': '3.18.0', 'sversion': 2}, {'name': 'A*01:02', 'release_version': '3.19.0', 'sversion': 2}, {'name': 'A*01:02', 'release_version': '3.20.0', 'sversion': 2}, {'name': 'A*01:02', 'release_version': '3.21.0', 'sversion': 2}, {'name': 'A*01:02', 'release_version': '3.22.0', 'sversion': 2}, {'name': 'A*01:02', 'release_version': '3.23.0', 'sversion': 2}, {'name': 'A*01:02', 'release_version': '3.24.0', 'sversion': 2}, {'name': 'A*01:02', 'release_version': '3.25.0', 'sversion': 2}, {'name': 'A*01:02', 'release_version': '3.26.0', 'sversion': 2}, {'name': 'A*01:02', 'release_version': '3.27.0', 'sversion': 2}, {'name': 'A*01:02', 'release_version': '3.28.0', 'sversion': 2}, {'name': 'A*01:02', 'release_version': '3.29.0', 'sversion': 2}, {'name': 'A*01:02', 'release_version': '3.30.0', 'sversion': 2}, {'name': 'A*01:02', 'release_version': '3.31.0', 'sversion': 2}, {'name': 'A*01:02', 'release_version': '3.32.0', 'sversion': 2}, {'name': 'A*01:02', 'release_version': '3.33.0', 'sversion': 2}, {'name': 'A*01:02', 'release_version': '3.34.0', 'sversion': 2}, {'name': 'A*01:02', 'release_version': '3.35.0', 'sversion': 3}, {'name': 'A*01:02', 'release_version': '3.36.0', 'sversion': 3}, {'name': 'A*01:02', 'release_version': '3.37.0', 'sversion': 3}, {'name': 'A*01:02', 'release_version': '3.38.0', 'sversion': 3}, {'name': 'A*01:02:01', 'release_version': '3.39.0', 'sversion': 3}, {'name': 'A*01:02:01', 'release_version': '3.40.0', 'sversion': 3}, {'name': 'A*01:02:01', 'release_version': '3.41.0', 'sversion': 3}, {'name': 'A*01:02:01', 'release_version': '3.42.0', 'sversion': 3}, {'name': 'A*01:02:01', 'release_version': '3.43.0', 'sversion': 3}, {'name': 'A*01:02:01', 'release_version': '3.44.0', 'sversion': 3}, {'name': 'A*01:02:01', 'release_version': '3.45.0', 'sversion': 3}, {'name': 'A*01:02:01', 'release_version': '3.46.0', 'sversion': 3}, {'name': 'A*01:02:01:01', 'release_version': '3.47.0', 'sversion': 3}, {'name': 'A*01:02:01:01', 'release_version': '3.48.0', 'sversion': 3}, {'name': 'A*01:02:01:01', 'release_version': '3.49.0', 'sversion': 3}, {'name': 'A*01:02:01:01', 'release_version': '3.50.0', 'sversion': 3}, {'name': 'A*01:02:01:01', 'release_version': '3.51.0', 'sversion': 3}, {'name': 'A*01:02:01:01', 'release_version': '3.52.0', 'sversion': 3}, {'name': 'A*01:02:01:01', 'release_version': '3.53.0', 'sversion': 3}, {'name': 'A*01:02:01:01', 'release_version': '3.54.0', 'sversion': 3}, {'name': 'A*01:02:01:01', 'release_version': '3.55.0', 'sversion': 3}, {'name': 'A*01:02:01:01', 'release_version': '3.56.0', 'sversion': 3}, {'name': 'A*01:02:01:01', 'release_version': '3.57.0', 'sversion': 3}, {'name': 'A*01:02:01:01', 'release_version': '3.58.0', 'sversion': 3}, {'name': 'A*01:02:01:01', 'release_version': '3.59.0', 'sversion': 3}], 'cell_entries': [{'ancestry': 'African', 'cell_name': 'DAUDI', 'cellid': '10471'}, {'ancestry': 'African descent - African American', 'cell_name': 'NT00610', 'cellid': '13978'}, {'ancestry': 'Undefined', 'cell_name': '211908', 'cellid': '33679'}, {'ancestry': 'African descent - African American', 'cell_name': 'MDA0000169', 'cellid': '35984'}, {'ancestry': 'Hispanic or Latin American', 'cell_name': 'BY01624', 'cellid': '50928'}, {'ancestry': 'Undefined', 'cell_name': 'DKMS-LSL_ID15716002', 'cellid': '51773'}], 'cigars': {'coding_cigar': '41MD16M6D16MD6MD16MD15M5D2M5D16MD3M4D5M16D14M23D9M4DMD4MDMD25MD12M2D6MD5M20D15MD20MD11M14D10MD11MD25MD21MD28MD25M14D5MD28M25D4M3D24M3D11M23D2MD24M42D6M8D24MD4M4D6M2D6MD9MD29M8D6M4D6M14D5M2D6MD11M9D6MD12M17D14M2D17MD19M4D6M4D67MD5M3D38MD65M4D37MD14M65D203M', 'genomic_cigar': '289MD52MD16M6D16MD136MD16MD15M5D18MD3M4D5M16D14M23D10MD4MDMD25MD23M20D15MD20MD11M14D10MD36MD21MD38MD14M3D11MD100MD29MD7MD24M5D9M19D37MD25M14D5MD28M25D4M3D24M3D11M23D2MD24M42D6M8D24MD4M4D6M2D6MD9MD29M8D6M4D11M2D6MD17MD12M17D11M7D15M5D9M13D6MD2M23D20M2D52M2D98M12D34M8D27M4D69M2D4MD70MD5M17D2MD52M4D44MD48MD25M2D17MD97M3D38MD65M4D37MD55M14D37M3D147M2D520MD30MD228MD188MD10MD157M', 'protein_cigar': '19M2D6MD112MD10MD31M14D20M3D49MD118M'}, 'citations': [{'authors': 'Browning MJ, Madrigal JA, Krausa P, Kowalski H, Allsopp CE, Little AM, Turner S, Adams EJ, Arnett KL, Bodmer WF, Bodmer JG, Parham P', 'journal': 'Tissue Antigens', 'pubmed': '7761977', 'title': 'The HLA-A,B,C genotype of the class I negative cell line Daudi reveals novel HLA-A and -B alleles.', 'volume': '45:177-187', 'year': '1995'}], 'class': 'I', 'confirmation_status': {'cells': 6, 'confirmed': True, 'laboratories': 5}, 'cwd': {'version_2': 'C', 'version_3': {'AFA': 'C', 'API': 'I', 'EURO': 'C', 'HIS': 'C', 'MENA': 'C', 'NAM': 'C', 'Total': 'C', 'UNK': 'C'}}, 'date_assigned': '1994-02-24', 'date_modified': '2019-01-23', 'dictionary': {'data': {'comments': None, 'expert_assigned': 'A1', 'neural_assigned': 'Training - A1', 'who_assigned': 'A1'}, 'source': {'13_IHWC': {'cells_tested': '-', 'type_assigned': '-'}, 'International_Cell_Exchange_UCLA': {'cells_tested': '-', 'type_assigned': '-'}, 'NMDP': {'cells_tested': '129', 'type_assigned': 'A1 [95]'}}}, 'expression': None, 'feature': {'coding': [{'length': 73, 'number': '1', 'partial': False, 'start': 1, 'type': 'exon'}, {'length': 270, 'number': '2', 'partial': False, 'start': 74, 'type': 'exon'}, {'length': 276, 'number': '3', 'partial': False, 'start': 344, 'type': 'exon'}, {'length': 276, 'number': '4', 'partial': False, 'start': 620, 'type': 'exon'}, {'length': 117, 'number': '5', 'partial': False, 'start': 896, 'type': 'exon'}, {'length': 33, 'number': '6', 'partial': False, 'start': 1013, 'type': 'exon'}, {'length': 48, 'number': '7', 'partial': False, 'start': 1046, 'type': 'exon'}, {'length': 5, 'number': '8', 'partial': False, 'start': 1094, 'type': 'exon'}], 'genomic': [{'length': 300, 'start': 1, 'type': '5utr'}, {'length': 73, 'number': '1', 'partial': False, 'start': 301, 'type': 'exon'}, {'length': 130, 'number': '1', 'partial': False, 'start': 374, 'type': 'intron'}, {'length': 270, 'number': '2', 'partial': False, 'start': 504, 'type': 'exon'}, {'length': 241, 'number': '2', 'partial': False, 'start': 774, 'type': 'intron'}, {'length': 276, 'number': '3', 'partial': False, 'start': 1015, 'type': 'exon'}, {'length': 579, 'number': '3', 'partial': False, 'start': 1291, 'type': 'intron'}, {'length': 276, 'number': '4', 'partial': False, 'start': 1870, 'type': 'exon'}, {'length': 102, 'number': '4', 'partial': False, 'start': 2146, 'type': 'intron'}, {'length': 117, 'number': '5', 'partial': False, 'start': 2248, 'type': 'exon'}, {'length': 442, 'number': '5', 'partial': False, 'start': 2365, 'type': 'intron'}, {'length': 33, 'number': '6', 'partial': False, 'start': 2807, 'type': 'exon'}, {'length': 142, 'number': '6', 'partial': False, 'start': 2840, 'type': 'intron'}, {'length': 48, 'number': '7', 'partial': False, 'start': 2982, 'type': 'exon'}, {'length': 169, 'number': '7', 'partial': False, 'start': 3030, 'type': 'intron'}, {'length': 5, 'number': '8', 'partial': False, 'start': 3199, 'type': 'exon'}, {'length': 300, 'start': 3204, 'type': '3utr'}], 'protein': [{'length': 24, 'start': 1, 'type': 'signal'}, {'length': 341, 'start': 25, 'type': 'mature'}]}, 'first_release': '1.00.0', 'insdc': [{'accession': 'EF156371', 'protein_id': 'ABL98038.1', 'version': 1}, {'accession': 'HG965147', 'protein_id': 'CDO33935.1', 'version': 1}, {'accession': 'KP336672', 'protein_id': 'AKJ66243.1', 'version': 1}, {'accession': 'LR136988', 'protein_id': 'VEM17902.1', 'version': 1}, {'accession': 'MK203044', 'protein_id': 'QCP66135.1', 'version': 1}, {'accession': 'U07161', 'protein_id': 'AAA80569.1', 'version': 1}], 'locus': 'A*', 'name': 'A*01:02:01:01', 'oid': '2.16.840.1.113883.13.252.1.1.2', 'omim': 142800, 'previous_nomenclature': 'A*0102', 'project': 'HLA', 'release_date': '2025-01-15', 'release_modified': '3.35.0', 'release_status': 'Sequence unchanged', 'release_version': '3.59.0', 'secondary_names': 'None', 'sequence': {'coding': 'ATGGCCGTCATGGCGCCCCGAACCCTCCTCCTGCTACTCTCGGGGGCCCTGGCCCTGACCCAGACCTGGGCGGGCTCCCACTCCATGAGGTATTTCTCCACATCCGTGTCCCGGCCCGGCAGTGGAGAGCCCCGCTTCATCGCAGTGGGCTACGTGGACGACACGCAGTTCGTGCGGTTCGACAGCGACGCCGCGAGCCAGAAGATGGAGCCGCGGGCGCCGTGGATAGAGCAGGAGGGGCCGGAGTATTGGGACCAGGAGACACGGAATATGAAGGCCCACTCACAGACTGACCGAGCGAACCTGGGGACCCTGCGCGGCTACTACAACCAGAGCGAGGACGGTTCTCACACCATCCAGATAATGTATGGCTGCGACGTGGGGCCGGACGGGCGCTTCCTCCGCGGGTACCGGCAGGACGCCTACGACGGCAAGGATTACATCGCCCTGAACGAGGACCTGCGCTCTTGGACCGCGGCGGACATGGCAGCTCAGATCACCAAGCGCAAGTGGGAGGCGGTCCATGCGGCGGAGCAGCGGAGAGTCTACCTGGAGGGCCGGTGCGTGGACGGGCTCCGCAGATACCTGGAGAACGGGAAGGAGACGCTGCAGCGCACGGACCCCCCCAAGACACATATGACCCACCACCCCATCTCTGACCATGAGGCCACCCTGAGGTGCTGGGCCCTGGGCTTCTACCCTGCGGAGATCACACTGACCTGGCAGCGGGATGGGGAGGACCAGACCCAGGACACGGAGCTCGTGGAGACCAGGCCTGCAGGGGATGGAACCTTCCAGAAGTGGGCGGCTGTGGTGGTGCCTTCTGGAGAGGAGCAGAGATACACCTGCCATGTGCAGCATGAGGGTCTGCCCAAGCCCCTCACCCTGAGATGGGAGCTGTCTTCCCAGCCCACCATCCCCATCGTGGGCATCATTGCTGGCCTGGTTCTCCTTGGAGCTGTGATCACTGGAGCTGTGGTCGCTGCCGTGATGTGGAGGAGGAAGAGCTCAGATAGAAAAGGAGGGAGTTACACTCAGGCTGCAAGCAGTGACAGTGCCCAGGGCTCTGATGTGTCTCTCACAGCTTGTAAAGTGTGA', 'codon_start': 1, 'genomic': 'CAGGAGCAGAGGGGTCAGGGCGAAGTCCCAGGGCCCCAGGCGTGGCTCTCAGGGTCTCAGGCCCCGAAGGCGGTGTATGGATTGGGGAGTCCCAGCCTTGGGGATTCCCCAACTCCGCAGTTTCTTTTCTCCCTCTCCCAACCTACGTAGGGTCCTTCATCCTGGATACTCACGACGCGGACCCAGTTCTCACTCCCATTGGGTGTCGGGTTTCCAGAGAAGCCAATCAGTGTCGTCGCGGTCGCTGTTCTAAAGTCCGCACGCACCCACCGGGACTCAGATTCTCCCCAGACGCCGAGGATGGCCGTCATGGCGCCCCGAACCCTCCTCCTGCTACTCTCGGGGGCCCTGGCCCTGACCCAGACCTGGGCGGGTGAGTGCGGGGTCGGGAGGGAAACCGCCTCTGCGGGGAGAAGCAAGGGGCCCTCCTGGCGGGGGCGCAGGACCGGGGGAGCCGCGCCGGGAGGAGGGTCGGTCAGGTCTCAGCCACTGCTCGCCCCCAGGCTCCCACTCCATGAGGTATTTCTCCACATCCGTGTCCCGGCCCGGCAGTGGAGAGCCCCGCTTCATCGCAGTGGGCTACGTGGACGACACGCAGTTCGTGCGGTTCGACAGCGACGCCGCGAGCCAGAAGATGGAGCCGCGGGCGCCGTGGATAGAGCAGGAGGGGCCGGAGTATTGGGACCAGGAGACACGGAATATGAAGGCCCACTCACAGACTGACCGAGCGAACCTGGGGACCCTGCGCGGCTACTACAACCAGAGCGAGGACGGTGAGTGACCCCGGCCCGGGGCGCAGGTCACGACCCCTCATCCCCCACGGACGGGCCAGGTCGCCCACAGTCTCCGGGTCCGAGATCCACCCCGAAGCCGCGGGACTCCGAGACCCTTGTCCCGGGAGAGGCCCAGGCGCCTTTACCCGGTTTCATTTTCAGTTTAGGCCAAAAATCCCCCCGGGTTGGTCGGGGCGGGGCGGGGCTCGGGGGACTGGGCTGACCGCGGGGTCGGGGCCAGGTTCTCACACCATCCAGATAATGTATGGCTGCGACGTGGGGCCGGACGGGCGCTTCCTCCGCGGGTACCGGCAGGACGCCTACGACGGCAAGGATTACATCGCCCTGAACGAGGACCTGCGCTCTTGGACCGCGGCGGACATGGCAGCTCAGATCACCAAGCGCAAGTGGGAGGCGGTCCATGCGGCGGAGCAGCGGAGAGTCTACCTGGAGGGCCGGTGCGTGGACGGGCTCCGCAGATACCTGGAGAACGGGAAGGAGACGCTGCAGCGCACGGGTACCAGGGGCCACGGGGCGCCTCCCTGATCGCCTATAGATCTCCCGGGCTGGCCTCCCACAAGGAGGGGAGACAATTGGGACCAACACTAGAATATCACCCTCCCTCTGGTCCTGAGGGAGAGGAATCCTCCTGGGTTTCCAGATCCTGTACCAGAGAGTGACTCTGAGGTTCCGCCCTGCTCTCTGACACAATTAAGGGATAAAATCTCTGAAGGAGTGACGGGAAGACGATCCCTCGAATACTGATGAGTGGTTCCCTTTGACACCGGCAGCAGCCTTGGGCCCGTGACTTTTCCTCTCAGGCCTTGTTCTCTGCTTCACACTCAATGTGTGTGGGGGTCTGAGTCCAGCACTTCTGAGTCTCTCAGCCTCCACTCAGGTCAGGACCAGAAGTCGCTGTTCCCTTCTCAGGGAATAGAAGATTATCCCAGGTGCCTGTGTCCAGGCTGGTGTCTGGGTTCTGTGCTCTCTTCCCCATCCCGGGTGTCCTGTCCATTCTCAAGATGGCCACATGCGTGCTGGTGGAGTGTCCCATGACAGATGCAAAATGCCTGAATTTTCTGACTCTTCCCGTCAGACCCCCCCAAGACACATATGACCCACCACCCCATCTCTGACCATGAGGCCACCCTGAGGTGCTGGGCCCTGGGCTTCTACCCTGCGGAGATCACACTGACCTGGCAGCGGGATGGGGAGGACCAGACCCAGGACACGGAGCTCGTGGAGACCAGGCCTGCAGGGGATGGAACCTTCCAGAAGTGGGCGGCTGTGGTGGTGCCTTCTGGAGAGGAGCAGAGATACACCTGCCATGTGCAGCATGAGGGTCTGCCCAAGCCCCTCACCCTGAGATGGGGTAAGGAGGGAGATGGGGGTGTCATGTCTCTTAGGGAAAGCAGGAGCCTCTCTGGAGACCTTTAGCAGGGTCAGGGCCCCTCACCTTCCCCTCTTTTCCCAGAGCTGTCTTCCCAGCCCACCATCCCCATCGTGGGCATCATTGCTGGCCTGGTTCTCCTTGGAGCTGTGATCACTGGAGCTGTGGTCGCTGCCGTGATGTGGAGGAGGAAGAGCTCAGGTGGAGAAGGGGTGAAGGGTGGGGTCTGAGATTTCTTGTCTCACTGAGGGTTCCAAGCCCCAGCTAGAAATGTGCCCTGTCTCATTACTGGGAAGCACCTTCCACAATCATGGGCCGACCCAGCCTGGGCCCTGTGTGCCAGCACTTACTCTTTTGTAAAGCACCTGTTAAAATGAAGGACAGATTTATCACCTTGATTACGGCGGTGATGGGACCTGATCCCAGCAGTCACAAGTCACAGGGGAAGGTCCCTGAGGACAGACCTCAGGAGGGCTATTGGTCCAGGACCCACACCTGCTTTCTTCATGTTTCCTGATCCCGCCCTGGGTCTGCAGTCACACATTTCTGGAAACTTCTCTGGGGTCCAAGACTAGGAGGTTCCTCTAGGACCTTAAGGCCCTGGCTCCTTTCTGGTATCTCACAGGACATTTTCTTCCCACAGATAGAAAAGGAGGGAGTTACACTCAGGCTGCAAGTAAGTATGAAGGAGGCTGATGCCTGAGGTCCTTGGGATATTGTGTTTGGGAGCCCATGGGGGAGCTCACCCACCCCACAATTCCTCCTCTAGCCACATCTTCTGTGGGATCTGACCAGGTTCTGTTTTTGTTCTACCCCAGGCAGTGACAGTGCCCAGGGCTCTGATGTGTCTCTCACAGCTTGTAAAGGTGAGAGCTTGGAGGGCCTGATGTGTGTTGGGTGTTGGGTGGAACAGTGGACACAGCTGTGCTATGGGGTTTCTTTGCGTTGGATGTATTGAGCATGCGATGGGCTGTTTAAGGTGTGACCCCTCACTGTGATGGATATGAATTTGTTCATGAATATTTTTTTCTATAGTGTGAGACAGCTGCCTTGTGTGGGACTGAGAGGCAAGAGTTGTTCCTGCCCTTCCCTTTGTGACTTGAAGAACCCTGACTTTGTTTCTGCAAAGGCACCTGCATGTGTCTGTGTTCGTGTAGGCATAATGTGAGGAGGTGGGGAGAGCACCCCACCCCCATGTCCACCATGACCCTCTTCCCACGCTGACCTGTGCTCCCTCTCCAATCATCTTTCCTGTTCCAGAGAGGTGGGGCTGAGGTGTCTCCATCTCTGTCTCAACTTCATGGTGCACTGAGCTGTAACTTCTTCCTTCCCTATTAAAA', 'protein': 'MAVMAPRTLLLLLSGALALTQTWAGSHSMRYFSTSVSRPGSGEPRFIAVGYVDDTQFVRFDSDAASQKMEPRAPWIEQEGPEYWDQETRNMKAHSQTDRANLGTLRGYYNQSEDGSHTIQIMYGCDVGPDGRFLRGYRQDAYDGKDYIALNEDLRSWTAADMAAQITKRKWEAVHAAEQRRVYLEGRCVDGLRRYLENGKETLQRTDPPKTHMTHHPISDHEATLRCWALGFYPAEITLTWQRDGEDQTQDTELVETRPAGDGTFQKWAAVVVPSGEEQRYTCHVQHEGLPKPLTLRWELSSQPTIPIVGIIAGLVLLGAVITGAVVAAVMWRRKSSDRKGGSYTQAASSDSAQGSDVSLTACKV'}, 'sequence_status': {'end': 1098, 'full': True, 'start': 1, 'type': 'gDNA'}, 'sequence_version': 3, 'status': 'Public', 'wmda': {'G_group': {'gid': 'HGG00607', 'name': 'A*01:02:01G'}, 'P_group': {'name': 'A*01:02P'}, 'rel_dna_ser': {'unambiguous': '1'}}}\n"
     ]
    }
   ],
   "source": [
    "import urllib.request, json \n",
    "with urllib.request.urlopen(\"https://www.ebi.ac.uk/cgi-bin/ipd/api/allele/HLA00002\") as url:\n",
    "    data = json.load(url)\n",
    "    print(data)\n",
    "# https://www.ebi.ac.uk/cgi-bin/ipd/api/allele/HLA00002"
   ]
  }
 ],
 "metadata": {
  "kernelspec": {
   "display_name": "base",
   "language": "python",
   "name": "python3"
  },
  "language_info": {
   "codemirror_mode": {
    "name": "ipython",
    "version": 3
   },
   "file_extension": ".py",
   "mimetype": "text/x-python",
   "name": "python",
   "nbconvert_exporter": "python",
   "pygments_lexer": "ipython3",
   "version": "3.12.7"
  }
 },
 "nbformat": 4,
 "nbformat_minor": 2
}
